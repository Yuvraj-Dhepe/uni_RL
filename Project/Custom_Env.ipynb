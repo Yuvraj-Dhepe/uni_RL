{
 "cells": [
  {
   "cell_type": "code",
   "execution_count": 3,
   "id": "8b2956b7-1146-4972-97ca-747ca8c912d6",
   "metadata": {},
   "outputs": [],
   "source": [
    "import numpy as np"
   ]
  },
  {
   "cell_type": "code",
   "execution_count": null,
   "id": "94d37e7f-80b4-4d74-a02b-20db0f62b79f",
   "metadata": {
    "tags": []
   },
   "outputs": [],
   "source": [
    "from typing import Dict, Text\n",
    "\n",
    "\n",
    "\n",
    "# from highway_env import utils\n",
    "# from highway_env.envs.common.abstract import AbstractEnv\n",
    "# from highway_env.envs.common.action import Action\n",
    "# from highway_env.road.road import Road, RoadNetwork\n",
    "# from highway_env.utils import near_split\n",
    "# from highway_env.vehicle.controller import ControlledVehicle\n",
    "# from highway_env.vehicle.kinematics import Vehicle\n",
    "import gymnasium as gym\n",
    "# from gymnasium.envs.registration import register\n",
    "# from gymnasium.envs import registry\n",
    "from highway_env.envs.your_env import *\n",
    "import matplotlib.pyplot as plt\n",
    "%matplotlib inline"
   ]
  },
  {
   "cell_type": "code",
   "execution_count": 35,
   "id": "aa583a18-e12c-4c0b-ba3c-1e9ec3d3ff53",
   "metadata": {
    "tags": []
   },
   "outputs": [],
   "source": [
    "# env_name = ['your-env-v0',\"your-env-v1\",'my-env-v0',\"my-env-v1\"]\n",
    "# for key in registry.keys():\n",
    "#     if '-v0' in key:\n",
    "#         #del registry[env]\n",
    "#         print(f\"env:{key}\")\n",
    "#         #print(f\"The env {env} has been successfully deleted.\")"
   ]
  },
  {
   "cell_type": "code",
   "execution_count": 42,
   "id": "452afaad",
   "metadata": {
    "tags": []
   },
   "outputs": [
    {
     "name": "stderr",
     "output_type": "stream",
     "text": [
      "/home/yuvi_dh/MSc_Life/Sem_two/uni_RL/venv/lib/python3.11/site-packages/gymnasium/utils/passive_env_checker.py:42: UserWarning: \u001b[33mWARN: A Box observation space has an unconventional shape (neither an image, nor a 1D vector). We recommend flattening the observation to have only a 1D vector or use a custom policy to properly process the data. Actual observation shape: (50, 7)\u001b[0m\n",
      "  logger.warn(\n"
     ]
    }
   ],
   "source": [
    "env = gym.make('your-env-v0', render_mode = 'human')\n",
    "obs, info = env.reset()"
   ]
  },
  {
   "cell_type": "code",
   "execution_count": null,
   "id": "a17b650c-f625-42ad-961d-8cf178ed20a9",
   "metadata": {},
   "outputs": [],
   "source": [
    "# O: Zoom in, L: Zoom Out, M: Move Right, K: Move Left \n",
    "# Buttons for viewing the maps properly\n",
    "for i in range(1000):\n",
    "    obs, reward, terminated, truncated, info = env.step(env.action_space.sample())"
   ]
  },
  {
   "cell_type": "code",
   "execution_count": 6,
   "id": "5de83393-0773-455b-8e83-252b1bb63604",
   "metadata": {},
   "outputs": [],
   "source": [
    "center1 = [100,-20]\n",
    "radius = 20\n",
    "direction = -1\n",
    "start_angle, end_angle = np.deg2rad(90), np.deg2rad(-1)\n",
    "len_r = radius*(end_angle- start_angle) * direction"
   ]
  },
  {
   "cell_type": "code",
   "execution_count": 7,
   "id": "5c820b2d-ecbe-4157-8b1d-73e20394234a",
   "metadata": {},
   "outputs": [
    {
     "data": {
      "text/plain": [
       "31.764992386296797"
      ]
     },
     "execution_count": 7,
     "metadata": {},
     "output_type": "execute_result"
    }
   ],
   "source": [
    "len_r"
   ]
  },
  {
   "cell_type": "code",
   "execution_count": null,
   "id": "03fe4f53-34b8-47a1-8cff-1502c48d8a4f",
   "metadata": {},
   "outputs": [],
   "source": [
    "# How does he plot the lanes?\n",
    "# How do we the circular angles of the arcs?\n",
    "# How does he gets the end points or starting points especially from f to i.?"
   ]
  },
  {
   "cell_type": "code",
   "execution_count": 8,
   "id": "40215298-3ced-4516-9c41-7a1788f11370",
   "metadata": {},
   "outputs": [],
   "source": [
    "center1 = [70,-30]\n",
    "radius = 15\n",
    "\n",
    "start_angle, end_angle = np.deg2rad(0), np.deg2rad(136)\n",
    "\n",
    "# Calculate start point coordinates\n",
    "start_x = center1[0] + radius * np.cos(start_angle)\n",
    "start_y = center1[1] + radius * np.sin(start_angle)\n",
    "start_point = [start_x, start_y]\n",
    "\n",
    "# Calculate end point coordinates\n",
    "end_x = center1[0] + radius * np.cos(end_angle)\n",
    "end_y = center1[1] + radius * np.sin(end_angle)\n",
    "end_point = [end_x, end_y]"
   ]
  },
  {
   "cell_type": "code",
   "execution_count": 9,
   "id": "dcd73aef-8a37-403b-91d1-20ba75a4bc37",
   "metadata": {},
   "outputs": [
    {
     "data": {
      "text/plain": [
       "([85.0, -30.0], [59.209902994920235, -19.580124443115043])"
      ]
     },
     "execution_count": 9,
     "metadata": {},
     "output_type": "execute_result"
    }
   ],
   "source": [
    "start_point, end_point"
   ]
  },
  {
   "cell_type": "code",
   "execution_count": null,
   "id": "36f9ec42-bb1c-4a4a-9852-8588d133dc04",
   "metadata": {},
   "outputs": [],
   "source": []
  },
  {
   "cell_type": "code",
   "execution_count": 42,
   "id": "3a575c45-a8f3-4023-b4df-a95e5d2b2d6d",
   "metadata": {},
   "outputs": [],
   "source": [
    "center1 = [70,-30]\n",
    "radius = 15\n",
    "\n",
    "start_angle, end_angle = np.deg2rad(240), np.deg2rad(270)\n",
    "\n",
    "# Calculate start point coordinates\n",
    "start_x = center1[0] + radius * np.cos(start_angle)\n",
    "start_y = center1[1] + radius * np.sin(start_angle)\n",
    "start_point = [start_x, start_y]\n",
    "\n",
    "# Calculate end point coordinates\n",
    "end_x = center1[0] + radius * np.cos(end_angle)\n",
    "end_y = center1[1] + radius * np.sin(end_angle)\n",
    "end_point = [end_x, end_y]"
   ]
  },
  {
   "cell_type": "code",
   "execution_count": 43,
   "id": "1cd51432-5219-43a7-9dde-8bba3846f093",
   "metadata": {},
   "outputs": [
    {
     "data": {
      "text/plain": [
       "([31.449999999999992, 3.048403011065698],\n",
       " [43.199999999999996, -0.10000000000000142])"
      ]
     },
     "execution_count": 43,
     "metadata": {},
     "output_type": "execute_result"
    }
   ],
   "source": [
    "start_point, end_point"
   ]
  },
  {
   "cell_type": "code",
   "execution_count": null,
   "id": "d4796abf-e82e-40c9-8987-98acdf33708c",
   "metadata": {},
   "outputs": [],
   "source": []
  }
 ],
 "metadata": {
  "kernelspec": {
   "display_name": "Python 3 (ipykernel)",
   "language": "python",
   "name": "python3"
  },
  "language_info": {
   "codemirror_mode": {
    "name": "ipython",
    "version": 3
   },
   "file_extension": ".py",
   "mimetype": "text/x-python",
   "name": "python",
   "nbconvert_exporter": "python",
   "pygments_lexer": "ipython3",
   "version": "3.11.3"
  }
 },
 "nbformat": 4,
 "nbformat_minor": 5
}
