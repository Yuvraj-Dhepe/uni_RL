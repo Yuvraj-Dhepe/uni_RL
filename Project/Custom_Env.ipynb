{
 "cells": [
  {
   "cell_type": "code",
   "execution_count": 1,
   "id": "94d37e7f-80b4-4d74-a02b-20db0f62b79f",
   "metadata": {
    "tags": []
   },
   "outputs": [],
   "source": [
    "from typing import Dict, Text\n",
    "\n",
    "import numpy as np\n",
    "\n",
    "from highway_env import utils\n",
    "from highway_env.envs.common.abstract import AbstractEnv\n",
    "from highway_env.envs.common.action import Action\n",
    "from highway_env.road.road import Road, RoadNetwork\n",
    "from highway_env.utils import near_split\n",
    "from highway_env.vehicle.controller import ControlledVehicle\n",
    "from highway_env.vehicle.kinematics import Vehicle\n",
    "import gymnasium as gym\n",
    "from gymnasium.envs.registration import register\n",
    "from gymnasium.envs import registry\n",
    "from highway_env.envs.your_env import *"
   ]
  },
  {
   "cell_type": "code",
   "execution_count": null,
   "id": "aa583a18-e12c-4c0b-ba3c-1e9ec3d3ff53",
   "metadata": {
    "tags": []
   },
   "outputs": [],
   "source": [
    "env_name = ['your-env-v0',\"your-env-v1\",'my-env-v0',\"my-env-v1\"]\n",
    "for key in registry.keys():\n",
    "    if '-v0' in key:\n",
    "        #del registry[env]\n",
    "        print(f\"env:{key}\")\n",
    "        #print(f\"The env {env} has been successfully deleted.\")"
   ]
  },
  {
   "cell_type": "code",
   "execution_count": 3,
   "id": "452afaad",
   "metadata": {
    "tags": []
   },
   "outputs": [
    {
     "name": "stderr",
     "output_type": "stream",
     "text": [
      "/home/yuvi_dh/MSc_Life/Sem_two/uni_RL/venv/lib/python3.11/site-packages/gymnasium/utils/passive_env_checker.py:29: UserWarning: \u001b[33mWARN: It seems a Box observation space is an image but the `dtype` is not `np.uint8`, actual type: float32. If the Box observation space is not an image, we recommend flattening the observation to have only a 1D vector.\u001b[0m\n",
      "  logger.warn(\n",
      "/home/yuvi_dh/MSc_Life/Sem_two/uni_RL/venv/lib/python3.11/site-packages/gymnasium/utils/passive_env_checker.py:34: UserWarning: \u001b[33mWARN: It seems a Box observation space is an image but the lower and upper bounds are not [0, 255]. Actual lower bound: -inf, upper bound: inf. Generally, CNN policies assume observations are within that range, so you may encounter an issue if the observation values are not.\u001b[0m\n",
      "  logger.warn(\n",
      "/home/yuvi_dh/MSc_Life/Sem_two/uni_RL/venv/lib/python3.11/site-packages/highway_env/envs/common/abstract.py:276: UserWarning: \u001b[33mWARN: You are calling render method without specifying any render mode. You can specify the render_mode at initialization, e.g. gym.make(\"your-env-v0\", render_mode=\"rgb_array\")\u001b[0m\n",
      "  gym.logger.warn(\n"
     ]
    }
   ],
   "source": [
    "env = gym.make('your-env-v0')\n",
    "obs, info = env.reset()\n",
    "obs, reward, terminated, truncated, info = env.step(env.action_space.sample())\n",
    "env.render()"
   ]
  },
  {
   "cell_type": "code",
   "execution_count": 4,
   "id": "d9a0b7c0-3f70-4ef4-923e-41ea2ac9a309",
   "metadata": {},
   "outputs": [
    {
     "name": "stdout",
     "output_type": "stream",
     "text": [
      "<OrderEnforcing<PassiveEnvChecker<YourEnv<your-env-v0>>>>\n"
     ]
    }
   ],
   "source": [
    "print(env)"
   ]
  },
  {
   "cell_type": "code",
   "execution_count": null,
   "id": "8b6b8e46-4a57-46d6-ba65-55fdc3b79f77",
   "metadata": {},
   "outputs": [],
   "source": []
  }
 ],
 "metadata": {
  "kernelspec": {
   "display_name": "Python 3 (ipykernel)",
   "language": "python",
   "name": "python3"
  },
  "language_info": {
   "codemirror_mode": {
    "name": "ipython",
    "version": 3
   },
   "file_extension": ".py",
   "mimetype": "text/x-python",
   "name": "python",
   "nbconvert_exporter": "python",
   "pygments_lexer": "ipython3",
   "version": "3.11.3"
  }
 },
 "nbformat": 4,
 "nbformat_minor": 5
}
